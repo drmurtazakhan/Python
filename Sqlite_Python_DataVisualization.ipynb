{
  "cells": [
    {
      "cell_type": "markdown",
      "metadata": {
        "id": "view-in-github",
        "colab_type": "text"
      },
      "source": [
        "<a href=\"https://colab.research.google.com/github/drmurtazakhan/Python/blob/main/Sqlite_Python_DataVisualization.ipynb\" target=\"_parent\"><img src=\"https://colab.research.google.com/assets/colab-badge.svg\" alt=\"Open In Colab\"/></a>"
      ]
    },
    {
      "cell_type": "code",
      "execution_count": 12,
      "id": "e72c3df0",
      "metadata": {
        "colab": {
          "base_uri": "https://localhost:8080/",
          "height": 35
        },
        "id": "e72c3df0",
        "outputId": "73ebc6b5-46f0-41a8-a22a-5371b6bc5d13"
      },
      "outputs": [
        {
          "output_type": "execute_result",
          "data": {
            "text/plain": [
              "'\\nCreated on Wed Sep 25 12:53:04 2024\\n\\n@author: Dr. Murtaza Ali Khan\\n'"
            ],
            "application/vnd.google.colaboratory.intrinsic+json": {
              "type": "string"
            }
          },
          "metadata": {},
          "execution_count": 12
        }
      ],
      "source": [
        "\"\"\"\n",
        "Created on Wed Sep 25 12:53:04 2024\n",
        "\n",
        "@author: Dr. Murtaza Ali Khan\n",
        "\"\"\""
      ]
    },
    {
      "cell_type": "code",
      "execution_count": 13,
      "id": "6a261343",
      "metadata": {
        "lines_to_next_cell": 2,
        "id": "6a261343"
      },
      "outputs": [],
      "source": [
        "# Import data analysis libraries\n",
        "import pandas as pd\n",
        "import matplotlib.pyplot as plt\n",
        "import seaborn as sns\n",
        "import sqlite3"
      ]
    },
    {
      "cell_type": "code",
      "execution_count": 14,
      "id": "fda33d1c",
      "metadata": {
        "id": "fda33d1c"
      },
      "outputs": [],
      "source": [
        "# Establish connection with database TRADE_DB\n",
        "connection = sqlite3.connect(\"TRADE_DB\");"
      ]
    },
    {
      "cell_type": "code",
      "execution_count": 15,
      "id": "0705da64",
      "metadata": {
        "id": "0705da64"
      },
      "outputs": [],
      "source": [
        "cursor = connection.cursor()"
      ]
    },
    {
      "cell_type": "code",
      "execution_count": 16,
      "id": "0baf3853",
      "metadata": {
        "colab": {
          "base_uri": "https://localhost:8080/"
        },
        "id": "0baf3853",
        "outputId": "0a75f4df-5ea4-4c17-b84a-b1b0f039a2ea"
      },
      "outputs": [
        {
          "output_type": "stream",
          "name": "stdout",
          "text": [
            "   ItemCode PurchaseDate    ItemName  ItemPrice     Category\n",
            "0         1   2024-09-27       Pizza        2.0         Food\n",
            "1         2   2024-09-27       Bread        0.5         Food\n",
            "2         3   2024-09-28       Apple        1.0         Food\n",
            "3         4   2024-09-28      Banana        0.5         Food\n",
            "4         5   2024-09-28       Mango        1.0         Food\n",
            "5         6   2024-09-29         Pen        1.0   Stationary\n",
            "6         7   2024-09-29    Notebook        2.0   Stationary\n",
            "7         8   2024-09-30     Markers        1.0   Stationary\n",
            "8         9   2024-10-01       Chair        2.0    Furniture\n",
            "9        10   2024-10-01       Table        3.0    Furniture\n",
            "10       11   2024-10-02    Keyboard        2.0  Electronics\n",
            "11       12   2024-10-02       Mouse        2.0  Electronics\n",
            "12       13   2024-10-03  Calculator        1.0  Electronics\n",
            "13       14   2024-10-03  USB Memory        1.0  Electronics\n"
          ]
        }
      ],
      "source": [
        "# Read data from the 'ITEM' table in the database into a pandas dataframe.\n",
        "df = pd.read_sql_query(\"SELECT * FROM ITEM\", connection)\n",
        "print(df)"
      ]
    },
    {
      "cell_type": "code",
      "execution_count": 17,
      "id": "8f4e4b13",
      "metadata": {
        "id": "8f4e4b13",
        "colab": {
          "base_uri": "https://localhost:8080/"
        },
        "outputId": "982241c1-14ea-48e5-85cc-35dd2244e4d7"
      },
      "outputs": [
        {
          "output_type": "stream",
          "name": "stdout",
          "text": [
            "ItemCode PurchaseDate   ItemName  ItemPrice    Category\n",
            "       1   2024-09-27      Pizza        2.0        Food\n",
            "       2   2024-09-27      Bread        0.5        Food\n",
            "       3   2024-09-28      Apple        1.0        Food\n",
            "       4   2024-09-28     Banana        0.5        Food\n",
            "       5   2024-09-28      Mango        1.0        Food\n",
            "       6   2024-09-29        Pen        1.0  Stationary\n",
            "       7   2024-09-29   Notebook        2.0  Stationary\n",
            "       8   2024-09-30    Markers        1.0  Stationary\n",
            "       9   2024-10-01      Chair        2.0   Furniture\n",
            "      10   2024-10-01      Table        3.0   Furniture\n",
            "      11   2024-10-02   Keyboard        2.0 Electronics\n",
            "      12   2024-10-02      Mouse        2.0 Electronics\n",
            "      13   2024-10-03 Calculator        1.0 Electronics\n",
            "      14   2024-10-03 USB Memory        1.0 Electronics\n"
          ]
        }
      ],
      "source": [
        "# print dataframe without index\n",
        "print(df.to_string(index=False))"
      ]
    },
    {
      "cell_type": "code",
      "execution_count": 18,
      "id": "71ed1292",
      "metadata": {
        "lines_to_next_cell": 2,
        "id": "71ed1292",
        "colab": {
          "base_uri": "https://localhost:8080/"
        },
        "outputId": "7ad724f4-bf52-452d-99ec-2ddbb7e6bbdc"
      },
      "outputs": [
        {
          "output_type": "stream",
          "name": "stdout",
          "text": [
            "Number of items = 14\n"
          ]
        }
      ],
      "source": [
        "# Calculate and print descriptive statistics for ItemPrice column.\n",
        "countRecords = len(df)\n",
        "print (\"Number of items = %d\" % (countRecords))"
      ]
    },
    {
      "cell_type": "code",
      "execution_count": 19,
      "id": "4ffeb84c",
      "metadata": {
        "id": "4ffeb84c",
        "colab": {
          "base_uri": "https://localhost:8080/"
        },
        "outputId": "91b2e86c-7059-4987-a073-b69e27101edf"
      },
      "outputs": [
        {
          "output_type": "stream",
          "name": "stdout",
          "text": [
            "Sum of ItemPrice = 20.00\n"
          ]
        }
      ],
      "source": [
        "sumPrice = df['ItemPrice'].sum()\n",
        "print (\"Sum of ItemPrice = %.2f\" % (sumPrice))"
      ]
    },
    {
      "cell_type": "code",
      "execution_count": 20,
      "id": "00c9ade1",
      "metadata": {
        "id": "00c9ade1",
        "colab": {
          "base_uri": "https://localhost:8080/"
        },
        "outputId": "b39f4db3-2988-4697-fa6c-a0158fc55219"
      },
      "outputs": [
        {
          "output_type": "stream",
          "name": "stdout",
          "text": [
            "Avg. of ItemPrice = 1.43\n"
          ]
        }
      ],
      "source": [
        "avgPrice = df['ItemPrice'].mean()\n",
        "print(\"Avg. of ItemPrice = %.2f\" % (avgPrice))"
      ]
    },
    {
      "cell_type": "code",
      "execution_count": 21,
      "id": "61415ad9",
      "metadata": {
        "id": "61415ad9",
        "colab": {
          "base_uri": "https://localhost:8080/"
        },
        "outputId": "02c69b84-1642-4970-b1b4-346bc7ede84b"
      },
      "outputs": [
        {
          "output_type": "stream",
          "name": "stdout",
          "text": [
            "Min. of ItemPrice = 0.50\n"
          ]
        }
      ],
      "source": [
        "minPrice = df['ItemPrice'].min()\n",
        "print(\"Min. of ItemPrice = %.2f\" % (minPrice))"
      ]
    },
    {
      "cell_type": "code",
      "execution_count": 22,
      "id": "3581a32f",
      "metadata": {
        "id": "3581a32f",
        "colab": {
          "base_uri": "https://localhost:8080/"
        },
        "outputId": "7dace26d-1f89-4f8a-9361-1c5a9dd7850f"
      },
      "outputs": [
        {
          "output_type": "stream",
          "name": "stdout",
          "text": [
            "Max. of ItemPrice = 3.00\n"
          ]
        }
      ],
      "source": [
        "maxPrice = df['ItemPrice'].max()\n",
        "print(\"Max. of ItemPrice = %.2f\" % (maxPrice))"
      ]
    },
    {
      "cell_type": "code",
      "execution_count": 24,
      "id": "e5e28704",
      "metadata": {
        "id": "e5e28704"
      },
      "outputs": [],
      "source": [
        "sql = \"\"\"SELECT Category, SUM(ItemPrice) AS SumItemPrice FROM ITEM GROUP BY Category;\"\"\""
      ]
    },
    {
      "cell_type": "code",
      "execution_count": 25,
      "id": "f69f30a1",
      "metadata": {
        "id": "f69f30a1",
        "colab": {
          "base_uri": "https://localhost:8080/"
        },
        "outputId": "688c92dc-e4b3-446b-9c8a-5685f9c2e1aa"
      },
      "outputs": [
        {
          "output_type": "stream",
          "name": "stdout",
          "text": [
            "      Category  SumItemPrice\n",
            "0  Electronics           6.0\n",
            "1         Food           5.0\n",
            "2    Furniture           5.0\n",
            "3   Stationary           4.0\n"
          ]
        }
      ],
      "source": [
        "itemPriceByCategory = pd.read_sql(sql, connection)\n",
        "print(itemPriceByCategory)"
      ]
    },
    {
      "cell_type": "code",
      "execution_count": 26,
      "id": "e37683df",
      "metadata": {
        "id": "e37683df",
        "colab": {
          "base_uri": "https://localhost:8080/",
          "height": 560
        },
        "outputId": "908a56b6-76d6-45f6-cefe-f9a2e63baaed"
      },
      "outputs": [
        {
          "output_type": "execute_result",
          "data": {
            "text/plain": [
              "Text(0, 0.5, 'Sum of Item Price in each Category')"
            ]
          },
          "metadata": {},
          "execution_count": 26
        },
        {
          "output_type": "display_data",
          "data": {
            "text/plain": [
              "<Figure size 1000x600 with 1 Axes>"
            ],
            "image/png": "[encoded data removed]"
          },
          "metadata": {}
        }
      ],
      "source": [
        "plt.figure(figsize=(10, 6))\n",
        "plt.subplot(1, 2, 1)\n",
        "ax = sns.barplot(x='Category', y='SumItemPrice', data=itemPriceByCategory)\n",
        "plt.xlabel(\"Category\")\n",
        "plt.ylabel(\"Sum of Item Price in each Category\")"
      ]
    },
    {
      "cell_type": "code",
      "execution_count": 27,
      "id": "68359c57",
      "metadata": {
        "lines_to_next_cell": 2,
        "id": "68359c57",
        "colab": {
          "base_uri": "https://localhost:8080/",
          "height": 284
        },
        "outputId": "90149c5e-b28d-4780-bbd8-a9910a88d72a"
      },
      "outputs": [
        {
          "output_type": "display_data",
          "data": {
            "text/plain": [
              "<Figure size 640x480 with 1 Axes>"
            ],
            "image/png": "[encoded data removed]"
          },
          "metadata": {}
        }
      ],
      "source": [
        "plt.subplot(1, 2, 2)\n",
        "plt.pie(itemPriceByCategory['SumItemPrice'], labels=itemPriceByCategory.index, autopct='%1.2f%%')\n",
        "plt.title(\"% ItemPrice of each Category\")\n",
        "plt.show(block=False)"
      ]
    },
    {
      "cell_type": "code",
      "execution_count": 28,
      "id": "6ae12029",
      "metadata": {
        "lines_to_next_cell": 2,
        "id": "6ae12029"
      },
      "outputs": [],
      "source": [
        "connection.close()"
      ]
    },
    {
      "cell_type": "markdown",
      "id": "5a6aa4ad",
      "metadata": {
        "id": "5a6aa4ad"
      },
      "source": [
        "# ResearchGate: http://www.researchgate.net/profile/Murtaza_Khan2/\n",
        "# LinkedIn: https://www.linkedin.com/in/dr-murtaza-ali-khan-3b368019\n",
        "# Google Scholar: https://scholar.google.com/citations?user=n0JDQ0sAAAAJ\n",
        "# Scopus: https://www.scopus.com/authid/detail.uri?authorId=7410318323\n",
        "# GitHub: https://github.com/drmurtazakhan"
      ]
    }
  ],
  "metadata": {
    "jupytext": {
      "cell_metadata_filter": "-all",
      "encoding": "# -*- coding: utf-8 -*-",
      "main_language": "python",
      "notebook_metadata_filter": "-all"
    },
    "colab": {
      "provenance": [],
      "include_colab_link": true
    },
    "language_info": {
      "name": "python"
    },
    "kernelspec": {
      "name": "python3",
      "display_name": "Python 3"
    }
  },
  "nbformat": 4,
  "nbformat_minor": 5
}