{
  "cells": [
    {
      "cell_type": "markdown",
      "metadata": {
        "id": "view-in-github",
        "colab_type": "text"
      },
      "source": [
        "<a href=\"https://colab.research.google.com/github/drmurtazakhan/Python/blob/main/sqlite3_create_TRADEDB.ipynb\" target=\"_parent\"><img src=\"https://colab.research.google.com/assets/colab-badge.svg\" alt=\"Open In Colab\"/></a>"
      ]
    },
    {
      "cell_type": "code",
      "execution_count": 1,
      "id": "db4f60a3",
      "metadata": {
        "colab": {
          "base_uri": "https://localhost:8080/",
          "height": 35
        },
        "id": "db4f60a3",
        "outputId": "17948891-2831-4350-c943-084dab8e0d97"
      },
      "outputs": [
        {
          "output_type": "execute_result",
          "data": {
            "text/plain": [
              "'\\nCreated on Wed Sep 25 12:53:04 2024\\n\\n@author: Dr. Murtaza Ali Khan\\n'"
            ],
            "application/vnd.google.colaboratory.intrinsic+json": {
              "type": "string"
            }
          },
          "metadata": {},
          "execution_count": 1
        }
      ],
      "source": [
        "\"\"\"\n",
        "Created on Wed Sep 25 12:53:04 2024\n",
        "\n",
        "@author: Dr. Murtaza Ali Khan\n",
        "\"\"\""
      ]
    },
    {
      "cell_type": "code",
      "execution_count": 2,
      "id": "d8177a41",
      "metadata": {
        "id": "d8177a41"
      },
      "outputs": [],
      "source": [
        "# Importing the sqlite3 library to work with SQLite databases.\n",
        "import sqlite3"
      ]
    },
    {
      "cell_type": "code",
      "execution_count": 3,
      "id": "e3ba65dc",
      "metadata": {
        "id": "e3ba65dc"
      },
      "outputs": [],
      "source": [
        "# Establishing a connection to the database file\n",
        "connection = sqlite3.connect(\"TRADE_DB\");"
      ]
    },
    {
      "cell_type": "code",
      "execution_count": 4,
      "id": "5158f7ad",
      "metadata": {
        "id": "5158f7ad"
      },
      "outputs": [],
      "source": [
        "# Creating a cursor object to execute SQL queries\n",
        "cursor = connection.cursor()"
      ]
    },
    {
      "cell_type": "code",
      "execution_count": 5,
      "id": "4b415fcd",
      "metadata": {
        "colab": {
          "base_uri": "https://localhost:8080/"
        },
        "id": "4b415fcd",
        "outputId": "541d95f0-3b30-408a-ddb4-6a490eec8939"
      },
      "outputs": [
        {
          "output_type": "execute_result",
          "data": {
            "text/plain": [
              "<sqlite3.Cursor at 0x7a79b80aa1c0>"
            ]
          },
          "metadata": {},
          "execution_count": 5
        }
      ],
      "source": [
        "# Creating a tabl\n",
        "cursor.execute(\"CREATE TABLE ITEM (ItemCode TEXT, PurchaseDate DATE, ItemName TEXT, ItemPrice REAL, Category TEXT)\")"
      ]
    },
    {
      "cell_type": "code",
      "execution_count": 6,
      "id": "08946e68",
      "metadata": {
        "colab": {
          "base_uri": "https://localhost:8080/"
        },
        "id": "08946e68",
        "outputId": "9e33a511-9646-493d-9b80-56c546e6963c"
      },
      "outputs": [
        {
          "output_type": "execute_result",
          "data": {
            "text/plain": [
              "<sqlite3.Cursor at 0x7a79b80aa1c0>"
            ]
          },
          "metadata": {},
          "execution_count": 6
        }
      ],
      "source": [
        "# Inserting multiple rows\n",
        "cursor.execute(\"INSERT INTO ITEM VALUES('1', '2024-09-27', 'Pizza', 2.0, 'Food')\")\n",
        "cursor.execute(\"INSERT INTO ITEM VALUES('2', '2024-09-27', 'Bread', 0.50, 'Food')\")\n",
        "cursor.execute(\"INSERT INTO ITEM VALUES('3', '2024-09-28', 'Apple', 1.0, 'Food')\")\n",
        "cursor.execute(\"INSERT INTO ITEM VALUES('4', '2024-09-28', 'Banana', 0.5, 'Food')\")\n",
        "cursor.execute(\"INSERT INTO ITEM VALUES('5', '2024-09-28', 'Mango', 1.0, 'Food')\")\n",
        "cursor.execute(\"INSERT INTO ITEM VALUES('6', '2024-09-29', 'Pen', 1.0, 'Stationary')\")\n",
        "cursor.execute(\"INSERT INTO ITEM VALUES('7', '2024-09-29', 'Notebook', 2.0, 'Stationary')\")\n",
        "cursor.execute(\"INSERT INTO ITEM VALUES('8', '2024-09-30', 'Markers', 1.0, 'Stationary')\")\n",
        "cursor.execute(\"INSERT INTO ITEM VALUES('9', '2024-10-01', 'Chair', 2.0, 'Furniture')\")\n",
        "cursor.execute(\"INSERT INTO ITEM VALUES('10', '2024-10-01', 'Table', 3.0, 'Furniture')\")\n",
        "cursor.execute(\"INSERT INTO ITEM VALUES('11', '2024-10-02', 'Keyboard', 2.0, 'Electronics')\")\n",
        "cursor.execute(\"INSERT INTO ITEM VALUES('12', '2024-10-02', 'Mouse', 2.0, 'Electronics')\")\n",
        "cursor.execute(\"INSERT INTO ITEM VALUES('13', '2024-10-03', 'Calculator', 1.0, 'Electronics')\")\n",
        "cursor.execute(\"INSERT INTO ITEM VALUES('14', '2024-10-03', 'USB Memory', 1.0, 'Electronics')\")"
      ]
    },
    {
      "cell_type": "code",
      "execution_count": 7,
      "id": "059a193b",
      "metadata": {
        "id": "059a193b"
      },
      "outputs": [],
      "source": [
        "# Saving the changes made to the database.\n",
        "connection.commit()"
      ]
    },
    {
      "cell_type": "code",
      "execution_count": 8,
      "id": "46c68f16",
      "metadata": {
        "colab": {
          "base_uri": "https://localhost:8080/"
        },
        "id": "46c68f16",
        "outputId": "2d3191c6-4e2a-41ce-fa96-16e04ab9f73f"
      },
      "outputs": [
        {
          "output_type": "stream",
          "name": "stdout",
          "text": [
            "[('1', '2024-09-27', 'Pizza', 2.0, 'Food'), ('2', '2024-09-27', 'Bread', 0.5, 'Food'), ('3', '2024-09-28', 'Apple', 1.0, 'Food'), ('4', '2024-09-28', 'Banana', 0.5, 'Food'), ('5', '2024-09-28', 'Mango', 1.0, 'Food'), ('6', '2024-09-29', 'Pen', 1.0, 'Stationary'), ('7', '2024-09-29', 'Notebook', 2.0, 'Stationary'), ('8', '2024-09-30', 'Markers', 1.0, 'Stationary'), ('9', '2024-10-01', 'Chair', 2.0, 'Furniture'), ('10', '2024-10-01', 'Table', 3.0, 'Furniture'), ('11', '2024-10-02', 'Keyboard', 2.0, 'Electronics'), ('12', '2024-10-02', 'Mouse', 2.0, 'Electronics'), ('13', '2024-10-03', 'Calculator', 1.0, 'Electronics'), ('14', '2024-10-03', 'USB Memory', 1.0, 'Electronics')]\n"
          ]
        }
      ],
      "source": [
        "# Retrieving all rows from the ITEM table and printing them.\n",
        "row = cursor.execute(\"SELECT * FROM ITEM\").fetchall()\n",
        "print(row)"
      ]
    },
    {
      "cell_type": "code",
      "execution_count": 9,
      "id": "936a2ca4",
      "metadata": {
        "colab": {
          "base_uri": "https://localhost:8080/"
        },
        "id": "936a2ca4",
        "outputId": "4df86667-223a-42d9-c01e-9af139c8c468"
      },
      "outputs": [
        {
          "output_type": "stream",
          "name": "stdout",
          "text": [
            "('1', '2024-09-27', 'Pizza', 2.0, 'Food')\n",
            "('2', '2024-09-27', 'Bread', 0.5, 'Food')\n",
            "('3', '2024-09-28', 'Apple', 1.0, 'Food')\n",
            "('4', '2024-09-28', 'Banana', 0.5, 'Food')\n",
            "('5', '2024-09-28', 'Mango', 1.0, 'Food')\n",
            "('6', '2024-09-29', 'Pen', 1.0, 'Stationary')\n",
            "('7', '2024-09-29', 'Notebook', 2.0, 'Stationary')\n",
            "('8', '2024-09-30', 'Markers', 1.0, 'Stationary')\n",
            "('9', '2024-10-01', 'Chair', 2.0, 'Furniture')\n",
            "('10', '2024-10-01', 'Table', 3.0, 'Furniture')\n",
            "('11', '2024-10-02', 'Keyboard', 2.0, 'Electronics')\n",
            "('12', '2024-10-02', 'Mouse', 2.0, 'Electronics')\n",
            "('13', '2024-10-03', 'Calculator', 1.0, 'Electronics')\n",
            "('14', '2024-10-03', 'USB Memory', 1.0, 'Electronics')\n"
          ]
        }
      ],
      "source": [
        "# Iterating through each row in the ITEM table and printing it.\n",
        "for row in cursor.execute(\"SELECT * FROM ITEM\"):\n",
        "    print(row)"
      ]
    },
    {
      "cell_type": "code",
      "execution_count": 10,
      "id": "210ff86b",
      "metadata": {
        "lines_to_next_cell": 2,
        "id": "210ff86b"
      },
      "outputs": [],
      "source": [
        "# Closing the database connection.\n",
        "connection.close()"
      ]
    },
    {
      "cell_type": "markdown",
      "source": [
        "## ResearchGate: http://www.researchgate.net/profile/Murtaza_Khan2/\n",
        "## LinkedIn: https://www.linkedin.com/in/dr-murtaza-ali-khan-3b368019\n",
        "## Google Scholar: https://scholar.google.com/citations?user=n0JDQ0sAAAAJ\n",
        "## Scopus: https://www.scopus.com/authid/detail.uri?authorId=7410318323\n",
        "## GitHub: https://github.com/drmurtazakhan"
      ],
      "metadata": {
        "id": "rwKi9uuMxads"
      },
      "id": "rwKi9uuMxads"
    }
  ],
  "metadata": {
    "jupytext": {
      "cell_metadata_filter": "-all",
      "encoding": "# -*- coding: utf-8 -*-",
      "main_language": "python",
      "notebook_metadata_filter": "-all"
    },
    "colab": {
      "provenance": [],
      "include_colab_link": true
    },
    "language_info": {
      "name": "python"
    },
    "kernelspec": {
      "name": "python3",
      "display_name": "Python 3"
    }
  },
  "nbformat": 4,
  "nbformat_minor": 5
}