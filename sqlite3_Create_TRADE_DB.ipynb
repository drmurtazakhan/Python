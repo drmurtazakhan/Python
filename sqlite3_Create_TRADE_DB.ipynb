{
  "nbformat": 4,
  "nbformat_minor": 0,
  "metadata": {
    "colab": {
      "provenance": [],
      "include_colab_link": true
    },
    "kernelspec": {
      "name": "python3",
      "display_name": "Python 3"
    },
    "language_info": {
      "name": "python"
    }
  },
  "cells": [
    {
      "cell_type": "markdown",
      "metadata": {
        "id": "view-in-github",
        "colab_type": "text"
      },
      "source": [
        "<a href=\"https://colab.research.google.com/github/drmurtazakhan/Python/blob/main/sqlite3_Create_TRADE_DB.ipynb\" target=\"_parent\"><img src=\"https://colab.research.google.com/assets/colab-badge.svg\" alt=\"Open In Colab\"/></a>"
      ]
    },
    {
      "cell_type": "code",
      "execution_count": 2,
      "metadata": {
        "id": "9cIS6U_W2HMS"
      },
      "outputs": [],
      "source": [
        "# Import the sqlite3 library to work with SQLite databases\n",
        "import sqlite3"
      ]
    },
    {
      "cell_type": "code",
      "source": [
        "# Establish a connection to the database named \"TRADE_DB\"\n",
        "# If the database doesn't exist, it will be created\n",
        "connection = sqlite3.connect(\"TRADE_DB\");"
      ],
      "metadata": {
        "id": "zjW4UKMMxYG0"
      },
      "execution_count": 3,
      "outputs": []
    },
    {
      "cell_type": "code",
      "source": [
        "# Create a cursor object to execute SQL commands\n",
        "cursor = connection.cursor()"
      ],
      "metadata": {
        "id": "fi7DtYm5xhyd"
      },
      "execution_count": 4,
      "outputs": []
    },
    {
      "cell_type": "code",
      "source": [
        "# Create a table named \"ITEM\" with columns for ItemCode, PurchaseDate, ItemName, ItemPrice, and Category\n",
        "cursor.execute(\"CREATE TABLE ITEM (ItemCode TEXT, PurchaseDate DATE, ItemName TEXT, ItemPrice REAL, Category TEXT)\")"
      ],
      "metadata": {
        "colab": {
          "base_uri": "https://localhost:8080/"
        },
        "id": "h4PhFgXPxlXc",
        "outputId": "2552fc90-4685-408e-e254-bfe82d885541"
      },
      "execution_count": 5,
      "outputs": [
        {
          "output_type": "execute_result",
          "data": {
            "text/plain": [
              "<sqlite3.Cursor at 0x78081e48ddc0>"
            ]
          },
          "metadata": {},
          "execution_count": 5
        }
      ]
    },
    {
      "cell_type": "code",
      "source": [
        "# Insert data into the ITEM table\n",
        "cursor.execute(\"INSERT INTO ITEM VALUES('1', '2024-09-27', 'Pizza', 2.0, 'Food')\")"
      ],
      "metadata": {
        "id": "N3APT-hSxtj9",
        "colab": {
          "base_uri": "https://localhost:8080/"
        },
        "outputId": "950f938a-21e1-46ec-95ac-fabb436c4714"
      },
      "execution_count": 6,
      "outputs": [
        {
          "output_type": "execute_result",
          "data": {
            "text/plain": [
              "<sqlite3.Cursor at 0x78081e48ddc0>"
            ]
          },
          "metadata": {},
          "execution_count": 6
        }
      ]
    },
    {
      "cell_type": "code",
      "source": [
        "# Insert more data into the ITEM table\n",
        "cursor.execute(\"INSERT INTO ITEM VALUES('2', '2024-09-27', 'Bread', 0.50, 'Food')\")\n",
        "cursor.execute(\"INSERT INTO ITEM VALUES('3', '2024-09-28', 'Apple', 1.0, 'Food')\")\n",
        "cursor.execute(\"INSERT INTO ITEM VALUES('4', '2024-09-28', 'Banana', 0.5, 'Food')\")\n",
        "cursor.execute(\"INSERT INTO ITEM VALUES('5', '2024-09-28', 'Mango', 1.0, 'Food')\")\n",
        "cursor.execute(\"INSERT INTO ITEM VALUES('6', '2024-09-29', 'Pen', 1.0, 'Stationary')\")\n",
        "cursor.execute(\"INSERT INTO ITEM VALUES('7', '2024-09-29', 'Notebook', 2.0, 'Stationary')\")\n",
        "cursor.execute(\"INSERT INTO ITEM VALUES('8', '2024-09-30', 'Markers', 1.0, 'Stationary')\")\n",
        "cursor.execute(\"INSERT INTO ITEM VALUES('9', '2024-10-01', 'Chair', 2.0, 'Furniture')\")\n",
        "cursor.execute(\"INSERT INTO ITEM VALUES('10', '2024-10-01', 'Table', 3.0, 'Furniture')\")\n",
        "cursor.execute(\"INSERT INTO ITEM VALUES('11', '2024-10-02', 'Keyboard', 2.0, 'Electronics')\")\n",
        "cursor.execute(\"INSERT INTO ITEM VALUES('12', '2024-10-02', 'Mouse', 2.0, 'Electronics')\")\n",
        "cursor.execute(\"INSERT INTO ITEM VALUES('13', '2024-10-03', 'Calculator', 1.0, 'Electronics')\")\n",
        "cursor.execute(\"INSERT INTO ITEM VALUES('14', '22024-10-03', 'USB Memory', 1.0, 'Electronics')\")"
      ],
      "metadata": {
        "colab": {
          "base_uri": "https://localhost:8080/"
        },
        "id": "9queuIs9x32b",
        "outputId": "81ef47f4-bcd8-4ce8-f841-db7402209eb1"
      },
      "execution_count": 7,
      "outputs": [
        {
          "output_type": "execute_result",
          "data": {
            "text/plain": [
              "<sqlite3.Cursor at 0x78081e48ddc0>"
            ]
          },
          "metadata": {},
          "execution_count": 7
        }
      ]
    },
    {
      "cell_type": "code",
      "source": [
        "# Commit the changes to the database to make them permanent\n",
        "connection.commit()"
      ],
      "metadata": {
        "id": "5mE-QRWsx7vz"
      },
      "execution_count": 8,
      "outputs": []
    },
    {
      "cell_type": "code",
      "source": [
        "# Fetch all rows from the ITEM table and store them in the 'row' variable\n",
        "row = cursor.execute(\"SELECT * FROM ITEM\").fetchall()\n",
        "print(row)"
      ],
      "metadata": {
        "colab": {
          "base_uri": "https://localhost:8080/"
        },
        "id": "GOtws89mx-lF",
        "outputId": "1327be30-daa5-4053-da21-b424c48f9f4e"
      },
      "execution_count": 9,
      "outputs": [
        {
          "output_type": "stream",
          "name": "stdout",
          "text": [
            "[('1', '2024-09-27', 'Pizza', 2.0, 'Food'), ('2', '2024-09-27', 'Bread', 0.5, 'Food'), ('3', '2024-09-28', 'Apple', 1.0, 'Food'), ('4', '2024-09-28', 'Banana', 0.5, 'Food'), ('5', '2024-09-28', 'Mango', 1.0, 'Food'), ('6', '2024-09-29', 'Pen', 1.0, 'Stationary'), ('7', '2024-09-29', 'Notebook', 2.0, 'Stationary'), ('8', '2024-09-30', 'Markers', 1.0, 'Stationary'), ('9', '2024-10-01', 'Chair', 2.0, 'Furniture'), ('10', '2024-10-01', 'Table', 3.0, 'Furniture'), ('11', '2024-10-02', 'Keyboard', 2.0, 'Electronics'), ('12', '2024-10-02', 'Mouse', 2.0, 'Electronics'), ('13', '2024-10-03', 'Calculator', 1.0, 'Electronics'), ('14', '22024-10-03', 'USB Memory', 1.0, 'Electronics')]\n"
          ]
        }
      ]
    },
    {
      "cell_type": "code",
      "source": [
        "# Iterate through each row in the ITEM table and print it\n",
        "for row in cursor.execute(\"SELECT * FROM ITEM\"):\n",
        "    print(row)"
      ],
      "metadata": {
        "id": "tzpk5dI4yCDl",
        "colab": {
          "base_uri": "https://localhost:8080/"
        },
        "outputId": "9bc990ae-2cfb-4652-cea5-d244bff4f9ca"
      },
      "execution_count": 10,
      "outputs": [
        {
          "output_type": "stream",
          "name": "stdout",
          "text": [
            "('1', '2024-09-27', 'Pizza', 2.0, 'Food')\n",
            "('2', '2024-09-27', 'Bread', 0.5, 'Food')\n",
            "('3', '2024-09-28', 'Apple', 1.0, 'Food')\n",
            "('4', '2024-09-28', 'Banana', 0.5, 'Food')\n",
            "('5', '2024-09-28', 'Mango', 1.0, 'Food')\n",
            "('6', '2024-09-29', 'Pen', 1.0, 'Stationary')\n",
            "('7', '2024-09-29', 'Notebook', 2.0, 'Stationary')\n",
            "('8', '2024-09-30', 'Markers', 1.0, 'Stationary')\n",
            "('9', '2024-10-01', 'Chair', 2.0, 'Furniture')\n",
            "('10', '2024-10-01', 'Table', 3.0, 'Furniture')\n",
            "('11', '2024-10-02', 'Keyboard', 2.0, 'Electronics')\n",
            "('12', '2024-10-02', 'Mouse', 2.0, 'Electronics')\n",
            "('13', '2024-10-03', 'Calculator', 1.0, 'Electronics')\n",
            "('14', '22024-10-03', 'USB Memory', 1.0, 'Electronics')\n"
          ]
        }
      ]
    },
    {
      "cell_type": "code",
      "source": [
        "# Close the database connection\n",
        "connection.close()"
      ],
      "metadata": {
        "id": "OiBLEjREyG4f"
      },
      "execution_count": 11,
      "outputs": []
    }
  ]
}